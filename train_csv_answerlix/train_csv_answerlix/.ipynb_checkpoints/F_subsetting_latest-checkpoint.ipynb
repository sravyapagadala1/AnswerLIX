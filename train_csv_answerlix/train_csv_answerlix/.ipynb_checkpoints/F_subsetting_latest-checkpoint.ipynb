{
 "cells": [
  {
   "cell_type": "code",
   "execution_count": 1,
   "metadata": {
    "scrolled": true
   },
   "outputs": [],
   "source": [
    "import pandas as pd\n",
    "df = pd.read_csv(\"/Users/shashidharreddythangella/Desktop/Final Project/Data_source_removed.csv\")\n",
    "sample = pd.read_csv(\"/Users/shashidharreddythangella/Desktop/Final Project/subsettinginput_1995nov.csv\",header=None)\n",
    "df = pd.DataFrame(df)\n",
    "df = df.apply(lambda x: x.astype(str).str.lower())\n",
    "sample = pd.DataFrame(sample)\n",
    "sample = sample.apply(lambda x: x.astype(str).str.lower())\n",
    "df.columns = map(str.lower, df.columns)"
   ]
  },
  {
   "cell_type": "code",
   "execution_count": 2,
   "metadata": {},
   "outputs": [
    {
     "data": {
      "text/html": [
       "<div>\n",
       "<style scoped>\n",
       "    .dataframe tbody tr th:only-of-type {\n",
       "        vertical-align: middle;\n",
       "    }\n",
       "\n",
       "    .dataframe tbody tr th {\n",
       "        vertical-align: top;\n",
       "    }\n",
       "\n",
       "    .dataframe thead th {\n",
       "        text-align: right;\n",
       "    }\n",
       "</style>\n",
       "<table border=\"1\" class=\"dataframe\">\n",
       "  <thead>\n",
       "    <tr style=\"text-align: right;\">\n",
       "      <th></th>\n",
       "      <th>market</th>\n",
       "      <th>metric</th>\n",
       "      <th>currency_id</th>\n",
       "      <th>money</th>\n",
       "      <th>unit_id</th>\n",
       "      <th>continent</th>\n",
       "      <th>sub_continent</th>\n",
       "      <th>country</th>\n",
       "      <th>organization/author</th>\n",
       "    </tr>\n",
       "  </thead>\n",
       "  <tbody>\n",
       "    <tr>\n",
       "      <th>0</th>\n",
       "      <td>beauty and personal care</td>\n",
       "      <td>market size</td>\n",
       "      <td>united states dollar</td>\n",
       "      <td>3.90e+11</td>\n",
       "      <td>no value found</td>\n",
       "      <td>no value found</td>\n",
       "      <td>no value found</td>\n",
       "      <td>no value found</td>\n",
       "      <td>research and markets</td>\n",
       "    </tr>\n",
       "    <tr>\n",
       "      <th>1</th>\n",
       "      <td>beauty and personal care</td>\n",
       "      <td>market size</td>\n",
       "      <td>united states dollar</td>\n",
       "      <td>9.55e+11</td>\n",
       "      <td>no value found</td>\n",
       "      <td>no value found</td>\n",
       "      <td>no value found</td>\n",
       "      <td>no value found</td>\n",
       "      <td>grand view research</td>\n",
       "    </tr>\n",
       "    <tr>\n",
       "      <th>2</th>\n",
       "      <td>cast acrylic sheets</td>\n",
       "      <td>market size</td>\n",
       "      <td>united states dollar</td>\n",
       "      <td>9051719570</td>\n",
       "      <td>no value found</td>\n",
       "      <td>no value found</td>\n",
       "      <td>no value found</td>\n",
       "      <td>no value found</td>\n",
       "      <td>markets and markets</td>\n",
       "    </tr>\n",
       "    <tr>\n",
       "      <th>3</th>\n",
       "      <td>cast acrylic sheets</td>\n",
       "      <td>market size</td>\n",
       "      <td>united states dollar</td>\n",
       "      <td>3642658050</td>\n",
       "      <td>no value found</td>\n",
       "      <td>no value found</td>\n",
       "      <td>no value found</td>\n",
       "      <td>no value found</td>\n",
       "      <td>markets and markets</td>\n",
       "    </tr>\n",
       "    <tr>\n",
       "      <th>4</th>\n",
       "      <td>cast acrylic sheets</td>\n",
       "      <td>market size</td>\n",
       "      <td>united states dollar</td>\n",
       "      <td>2161639100</td>\n",
       "      <td>no value found</td>\n",
       "      <td>no value found</td>\n",
       "      <td>no value found</td>\n",
       "      <td>no value found</td>\n",
       "      <td>markets and markets</td>\n",
       "    </tr>\n",
       "  </tbody>\n",
       "</table>\n",
       "</div>"
      ],
      "text/plain": [
       "                     market       metric           currency_id       money  \\\n",
       "0  beauty and personal care  market size  united states dollar    3.90e+11   \n",
       "1  beauty and personal care  market size  united states dollar    9.55e+11   \n",
       "2       cast acrylic sheets  market size  united states dollar  9051719570   \n",
       "3       cast acrylic sheets  market size  united states dollar  3642658050   \n",
       "4       cast acrylic sheets  market size  united states dollar  2161639100   \n",
       "\n",
       "          unit_id       continent   sub_continent         country  \\\n",
       "0  no value found  no value found  no value found  no value found   \n",
       "1  no value found  no value found  no value found  no value found   \n",
       "2  no value found  no value found  no value found  no value found   \n",
       "3  no value found  no value found  no value found  no value found   \n",
       "4  no value found  no value found  no value found  no value found   \n",
       "\n",
       "    organization/author  \n",
       "0  research and markets  \n",
       "1   grand view research  \n",
       "2   markets and markets  \n",
       "3   markets and markets  \n",
       "4   markets and markets  "
      ]
     },
     "execution_count": 2,
     "metadata": {},
     "output_type": "execute_result"
    }
   ],
   "source": [
    "df.head(5)"
   ]
  },
  {
   "cell_type": "code",
   "execution_count": 3,
   "metadata": {},
   "outputs": [
    {
     "data": {
      "text/html": [
       "<div>\n",
       "<style scoped>\n",
       "    .dataframe tbody tr th:only-of-type {\n",
       "        vertical-align: middle;\n",
       "    }\n",
       "\n",
       "    .dataframe tbody tr th {\n",
       "        vertical-align: top;\n",
       "    }\n",
       "\n",
       "    .dataframe thead th {\n",
       "        text-align: right;\n",
       "    }\n",
       "</style>\n",
       "<table border=\"1\" class=\"dataframe\">\n",
       "  <thead>\n",
       "    <tr style=\"text-align: right;\">\n",
       "      <th></th>\n",
       "      <th>0</th>\n",
       "      <th>1</th>\n",
       "    </tr>\n",
       "  </thead>\n",
       "  <tbody>\n",
       "    <tr>\n",
       "      <th>0</th>\n",
       "      <td>construction equipment</td>\n",
       "      <td>market</td>\n",
       "    </tr>\n",
       "    <tr>\n",
       "      <th>1</th>\n",
       "      <td>market size</td>\n",
       "      <td>metric</td>\n",
       "    </tr>\n",
       "    <tr>\n",
       "      <th>2</th>\n",
       "      <td>pr newswire</td>\n",
       "      <td>organization/author</td>\n",
       "    </tr>\n",
       "    <tr>\n",
       "      <th>3</th>\n",
       "      <td>united states dollar</td>\n",
       "      <td>currency_id</td>\n",
       "    </tr>\n",
       "    <tr>\n",
       "      <th>4</th>\n",
       "      <td>#</td>\n",
       "      <td>nan</td>\n",
       "    </tr>\n",
       "    <tr>\n",
       "      <th>5</th>\n",
       "      <td>united states dollar</td>\n",
       "      <td>currency_id</td>\n",
       "    </tr>\n",
       "    <tr>\n",
       "      <th>6</th>\n",
       "      <td>desktop virtualization</td>\n",
       "      <td>market</td>\n",
       "    </tr>\n",
       "    <tr>\n",
       "      <th>7</th>\n",
       "      <td>techsci research</td>\n",
       "      <td>organization/author</td>\n",
       "    </tr>\n",
       "    <tr>\n",
       "      <th>8</th>\n",
       "      <td>#</td>\n",
       "      <td>nan</td>\n",
       "    </tr>\n",
       "  </tbody>\n",
       "</table>\n",
       "</div>"
      ],
      "text/plain": [
       "                        0                    1\n",
       "0  construction equipment               market\n",
       "1             market size               metric\n",
       "2             pr newswire  organization/author\n",
       "3    united states dollar          currency_id\n",
       "4                       #                  nan\n",
       "5    united states dollar          currency_id\n",
       "6  desktop virtualization               market\n",
       "7        techsci research  organization/author\n",
       "8                       #                  nan"
      ]
     },
     "execution_count": 3,
     "metadata": {},
     "output_type": "execute_result"
    }
   ],
   "source": [
    "sample.head(15)"
   ]
  },
  {
   "cell_type": "code",
   "execution_count": 4,
   "metadata": {},
   "outputs": [
    {
     "data": {
      "text/plain": [
       "(2535, 9)"
      ]
     },
     "execution_count": 4,
     "metadata": {},
     "output_type": "execute_result"
    }
   ],
   "source": [
    "df.shape"
   ]
  },
  {
   "cell_type": "code",
   "execution_count": 5,
   "metadata": {},
   "outputs": [
    {
     "data": {
      "text/plain": [
       "2"
      ]
     },
     "execution_count": 5,
     "metadata": {},
     "output_type": "execute_result"
    }
   ],
   "source": [
    "#detect question boundary\n",
    "a=sample.index[sample[0] == '#']\n",
    "index=list(a)\n",
    "index\n",
    "no_of_question= len(index)\n",
    "no_of_question"
   ]
  },
  {
   "cell_type": "code",
   "execution_count": 6,
   "metadata": {},
   "outputs": [
    {
     "name": "stdout",
     "output_type": "stream",
     "text": [
      "<class 'list'>\n"
     ]
    }
   ],
   "source": [
    "target_column=['Money','Money']\n",
    "target_column = [x.lower() for x in target_column] \n",
    "print(type(target_column))"
   ]
  },
  {
   "cell_type": "code",
   "execution_count": 13,
   "metadata": {},
   "outputs": [],
   "source": [
    "def lookup (sub_list_e,sub_list_t,df,q_num):\n",
    "    #print(\"inside lookup funtion\")\n",
    "    sample_sub_dict = dict(zip(sub_list_t, sub_list_e))\n",
    "#   print(sample_sub_dict)\n",
    "    val = sample_sub_dict.values()\n",
    "    key = sample_sub_dict.keys()\n",
    "    \n",
    "    for k,v in sample_sub_dict.items():\n",
    "        sdf = subset_return(df,k,v)\n",
    "        #print(sdf.shape)\n",
    "        df = sdf  \n",
    "    print(\"answer here :\",df[target_column[q_num]])\n",
    "    return sample_sub_dict\n",
    "\n",
    "def subset_return(df,k,v):\n",
    "    #print(\"inside subset_return function\")\n",
    "    return df[df[str(k)] == str(v)]"
   ]
  },
  {
   "cell_type": "code",
   "execution_count": 14,
   "metadata": {},
   "outputs": [
    {
     "name": "stdout",
     "output_type": "stream",
     "text": [
      "answer here : 322    6.30e+11\n",
      "Name: money, dtype: object\n",
      "*\n",
      "answer here : 401    73804230960\n",
      "Name: money, dtype: object\n",
      "*\n"
     ]
    }
   ],
   "source": [
    "#read csv sample\n",
    "list_e = sample[0].tolist()\n",
    "list_t = sample[1].tolist()\n",
    "counter=0\n",
    "q_num=0\n",
    "#question wise lists\n",
    "for i in index:\n",
    "    sub_list_e=list_e[counter:i]\n",
    "    sub_list_t=list_t[counter:i]\n",
    "    counter=i+1\n",
    "    lookup(sub_list_e,sub_list_t,df,q_num)\n",
    "    q_num=q_num+1\n",
    "    print(\"*\")\n"
   ]
  }
 ],
 "metadata": {
  "kernelspec": {
   "display_name": "Python 3",
   "language": "python",
   "name": "python3"
  },
  "language_info": {
   "codemirror_mode": {
    "name": "ipython",
    "version": 3
   },
   "file_extension": ".py",
   "mimetype": "text/x-python",
   "name": "python",
   "nbconvert_exporter": "python",
   "pygments_lexer": "ipython3",
   "version": "3.6.5"
  }
 },
 "nbformat": 4,
 "nbformat_minor": 2
}
