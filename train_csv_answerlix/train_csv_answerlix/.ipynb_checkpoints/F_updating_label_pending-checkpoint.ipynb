{
 "cells": [
  {
   "cell_type": "code",
   "execution_count": 3,
   "metadata": {},
   "outputs": [],
   "source": [
    "import spacy\n",
    "from spacy.matcher import PhraseMatcher, Matcher\n",
    "from pathlib import Path\n",
    "import plac\n",
    "from pathlib import Path\n",
    "from spacy.util import minibatch, compounding\n",
    "import random\n",
    "import pandas as pd\n",
    "\n",
    "#df = pd.read_csv('/Users/shashidharreddythangella/Desktop/Data_source_removed.csv')\n",
    "df = pd.read_csv('/Users/shashidharreddythangella/Desktop/Final Project/Data_source.csv')\n",
    "\n",
    "nlp = spacy.load('en')\n",
    "if 'ner' not in nlp.pipe_names:\n",
    "    ner = nlp.create_pipe('ner')\n",
    "    nlp.add_pipe(ner)\n",
    "else:\n",
    "    ner = nlp.get_pipe('ner')"
   ]
  },
  {
   "cell_type": "code",
   "execution_count": 4,
   "metadata": {},
   "outputs": [],
   "source": [
    "label_list=[]\n",
    "matchitem_list=[]\n",
    "def offseter(doc, matchitem, dictionary):\n",
    "    o_one = len(str(doc[0:matchitem[1]]))+1\n",
    "    subdoc= doc[matchitem[1]:matchitem[2]]\n",
    "    print(subdoc)\n",
    "    o_two = o_one + len(str(subdoc))\n",
    "    for k in dictionary.keys():\n",
    "        if str(subdoc) in dictionary[k]:\n",
    "#             print(k)\n",
    "            label_list.append(k)\n",
    "            matchitem_list.append(subdoc)\n",
    "            \n",
    "#             match_dict=dict(zip(matchitem_list,label_list))\n",
    "#             print(match_dict)\n",
    "\n",
    "#         print(dictionary[k])\n",
    "    return (o_one, o_two) "
   ]
  },
  {
   "cell_type": "code",
   "execution_count": null,
   "metadata": {},
   "outputs": [],
   "source": [
    "# # a =\"tag_values_\"\n",
    "# tag_values_csv =[]\n",
    "# headers=df.columns\n",
    "# # if str(tag_values_Continent) != 'nan'\n",
    "# # x = x[~pd.isnull(x)]\n",
    "# for x in range(len(headers)):\n",
    "#     f_tag=headers[x]\n",
    "#     tag_values_csv.append(f_tag)\n",
    "#     tag_values_csv\n",
    "# dictionary = {}\n",
    "# for i in range(len(tag_values_csv)):\n",
    "#     dictionary[tag_values_csv[i]] = df.iloc[:,i].unique().tolist()\n",
    "# dictionary\n",
    "# #['Currency_id'] #Get Specific column"
   ]
  },
  {
   "cell_type": "code",
   "execution_count": 5,
   "metadata": {},
   "outputs": [],
   "source": [
    "tag_values_Market=df.iloc[:,0].unique().tolist()\n",
    "tag_values_Market = [tag_values_Market for tag_values_Market in tag_values_Market if str(tag_values_Market) != 'nan']\n",
    "#print(tag_values_Market)\n",
    "\n",
    "tag_values_Metric=df.iloc[:,1].unique().tolist()\n",
    "tag_values_Metric = [tag_values_Metric for tag_values_Metric in tag_values_Metric if str(tag_values_Metric) != 'nan']\n",
    "#print(tag_values_Metric)\n",
    "\n",
    "\n",
    "\n",
    "tag_values_Unit_id=df.iloc[:,5].unique().tolist()\n",
    "tag_values_Unit_id = [tag_values_Unit_id for tag_values_Unit_id in tag_values_Unit_id if str(tag_values_Unit_id) != 'nan']\n",
    "#print(tag_values_Unit_id)\n",
    "\n",
    "\n",
    "tag_values_Year=df.iloc[:,7].unique().tolist()\n",
    "tag_values_Year = [tag_values_Year for tag_values_Year in tag_values_Year if str(tag_values_Year) != 'nan']\n",
    "#print(tag_values_Unit_id)\n",
    "\n",
    "\n",
    "tag_values_Continent=df.iloc[:,7].unique().tolist()\n",
    "tag_values_Continent = [tag_values_Continent for tag_values_Continent in tag_values_Continent if str(tag_values_Continent) != 'nan']\n",
    "#print(tag_values_Continent)\n",
    "\n",
    "\n",
    "tag_values_Continent=df.iloc[:,7].unique().tolist()\n",
    "tag_values_Continent = [tag_values_Continent for tag_values_Continent in tag_values_Continent if str(tag_values_Continent) != 'nan']\n",
    "#print(tag_values_Continent)\n",
    "\n",
    "\n",
    "\n",
    "tag_values_Sub_Continent=df.iloc[:,9].unique().tolist()\n",
    "tag_values_Sub_Continent = [tag_values_Sub_Continent for tag_values_Sub_Continent in tag_values_Sub_Continent if str(tag_values_Sub_Continent) != 'nan']\n",
    "#print(tag_values_Sub_Continent)\n",
    "tag_values_Country=df.iloc[:,10].unique().tolist()\n",
    "tag_values_Country = [tag_values_Country for tag_values_Country in tag_values_Country if str(tag_values_Country) != 'nan']\n",
    "#print(tag_values_Country)\n",
    "tag_values_Currency_id=df.iloc[:,3].unique().tolist()\n",
    "tag_values_Currency_id = [tag_values_Currency_id for tag_values_Currency_id in tag_values_Currency_id if str(tag_values_Currency_id) != 'nan']\n",
    "#print(tag_values_Currency_id)\n",
    "\n",
    "# key_label=['tag_values_Currency_id','tag_values_Country','tag_values_Sub_Continent']\n",
    "# values=[tag_values_Currency_id,tag_values_Country,tag_values_Sub_Continent]\n",
    "key_label=['tag_values_Continent','tag_values_Sub_Continent','tag_values_Country','tag_values_Currency_id']\n",
    "values=[tag_values_Continent,tag_values_Sub_Continent,tag_values_Country,tag_values_Currency_id]\n",
    "\n",
    "\n",
    "\n",
    "\n",
    "\n",
    "dictionary= dict(zip(key_label,values))\n",
    "value_list=list(dictionary.values())\n",
    "\n",
    "# value_list[3]"
   ]
  },
  {
   "cell_type": "code",
   "execution_count": null,
   "metadata": {},
   "outputs": [],
   "source": [
    "# key_label=list(dictionary.keys())\n",
    "# values=list(dictionary.values())"
   ]
  },
  {
   "cell_type": "code",
   "execution_count": 6,
   "metadata": {},
   "outputs": [],
   "source": [
    "matcher = PhraseMatcher(nlp.vocab)\n",
    "# for z in range(len(value_list)):\n",
    "#     for i, j in zip(range(len(key_label)),value_list):\n",
    "#         label=key_label[i]\n",
    "#         matcher.add(label, None, nlp(value_list[z][z]))\n",
    "# #         print(key_label[i])\n",
    "#     print(z, value_list[z])\n",
    "# print(matcher)\n",
    "for l in key_label:\n",
    "    for v in values:\n",
    "        for i in v:\n",
    "            #print(l, None, nlp(i))\n",
    "            matcher.add(l, None, nlp(i))"
   ]
  },
  {
   "cell_type": "code",
   "execution_count": 7,
   "metadata": {},
   "outputs": [
    {
     "data": {
      "text/plain": [
       "[(7267342149885813035, 3, 4),\n",
       " (7267342149885813035, 6, 7),\n",
       " (7267342149885813035, 7, 9),\n",
       " (7267342149885813035, 7, 10)]"
      ]
     },
     "execution_count": 7,
     "metadata": {},
     "output_type": "execute_result"
    }
   ],
   "source": [
    "one = nlp('What is the India revenue in Belgium United States Dollar for global beauty and personal care products market by 2025 ?')\n",
    "matches = matcher(one)\n",
    "[match for match in matches]"
   ]
  },
  {
   "cell_type": "code",
   "execution_count": 8,
   "metadata": {},
   "outputs": [],
   "source": [
    "res = []\n",
    "to_train_ents = []\n",
    "# print(label)\n",
    "\n",
    "line='What is Southern Asia the revenue in Belgium United States Dollar for Global Beauty and Personal Care products market by 2025 ?'\n",
    "mnlp_line = nlp(line)\n",
    "matches = matcher(mnlp_line)"
   ]
  },
  {
   "cell_type": "code",
   "execution_count": 9,
   "metadata": {},
   "outputs": [
    {
     "name": "stdout",
     "output_type": "stream",
     "text": [
      "Southern Asia\n",
      "Asia\n",
      "Belgium\n",
      "United States\n",
      "United States Dollar\n",
      "[(8, 21), (17, 21), (37, 44), (45, 58), (45, 65)]\n",
      "{'What is Southern Asia the revenue in Belgium United States Dollar for Global Beauty and Personal Care products market by 2025 ?': {'entities': {(8, 21): 'tag_values_Sub_Continent', (17, 21): 'tag_values_Continent', (37, 44): 'tag_values_Country', (45, 58): 'tag_values_Country', (45, 65): 'tag_values_Currency_id'}}}\n"
     ]
    }
   ],
   "source": [
    "res = [offseter(mnlp_line, x, dictionary)\n",
    "       for x\n",
    "       in matches]\n",
    "print(res)\n",
    "to_train_ents.append((line, dict(entities=dict(zip(res,label_list))))) \n",
    "#print(to_train_ents)\n",
    "\n",
    "final_dict ={}\n",
    "entities={}\n",
    "\n",
    "entities['entities'] = dict (zip(res,label_list))\n",
    "final_dict[line]= entities\n",
    "\n",
    "print(final_dict)"
   ]
  },
  {
   "cell_type": "code",
   "execution_count": null,
   "metadata": {},
   "outputs": [],
   "source": []
  }
 ],
 "metadata": {
  "kernelspec": {
   "display_name": "Python 3",
   "language": "python",
   "name": "python3"
  },
  "language_info": {
   "codemirror_mode": {
    "name": "ipython",
    "version": 3
   },
   "file_extension": ".py",
   "mimetype": "text/x-python",
   "name": "python",
   "nbconvert_exporter": "python",
   "pygments_lexer": "ipython3",
   "version": "3.6.5"
  }
 },
 "nbformat": 4,
 "nbformat_minor": 2
}
