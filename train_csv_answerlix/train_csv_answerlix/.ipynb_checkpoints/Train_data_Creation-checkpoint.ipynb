{
 "cells": [
  {
   "cell_type": "code",
   "execution_count": 10,
   "metadata": {},
   "outputs": [],
   "source": [
    "import spacy\n",
    "from spacy.matcher import PhraseMatcher, Matcher\n",
    "from pathlib import Path\n",
    "import plac\n",
    "from pathlib import Path\n",
    "from spacy.util import minibatch, compounding\n",
    "import random"
   ]
  },
  {
   "cell_type": "code",
   "execution_count": 11,
   "metadata": {},
   "outputs": [],
   "source": [
    "def offseter(lbl, doc, matchitem):\n",
    "    #print(\"shashi\",matchitem)\n",
    "    o_one = len(str(doc[0:matchitem[1]]))+1\n",
    "    subdoc= doc[matchitem[1]:matchitem[2]]\n",
    "    o_two = o_one + len(str(subdoc))\n",
    "    return (o_one, o_two, lbl)"
   ]
  },
  {
   "cell_type": "code",
   "execution_count": 12,
   "metadata": {},
   "outputs": [],
   "source": [
    "nlp = spacy.load('en')\n",
    "if 'ner' not in nlp.pipe_names:\n",
    "    ner = nlp.create_pipe('ner')\n",
    "    nlp.add_pipe(ner)\n",
    "else:\n",
    "    ner = nlp.get_pipe('ner')"
   ]
  },
  {
   "cell_type": "code",
   "execution_count": 13,
   "metadata": {},
   "outputs": [
    {
     "name": "stdout",
     "output_type": "stream",
     "text": [
      "None\n",
      "None\n",
      "None\n"
     ]
    }
   ],
   "source": [
    "{\"currency\":['US Dollar','INR','European euro']}\n",
    "label = 'currency'\n",
    "matcher = PhraseMatcher(nlp.vocab)\n",
    "for i in ['US Dollar','INR','European euro']:\n",
    "    print(matcher.add(label, None, nlp(i)))"
   ]
  },
  {
   "cell_type": "code",
   "execution_count": 14,
   "metadata": {
    "scrolled": true
   },
   "outputs": [
    {
     "data": {
      "text/plain": [
       "[(11481966854421200157, 6, 7)]"
      ]
     },
     "execution_count": 14,
     "metadata": {},
     "output_type": "execute_result"
    }
   ],
   "source": [
    "one = nlp('What is the projected revenue in INR for global beauty and personal care products market by 2025 ?')\n",
    "matches = matcher(one)\n",
    "[match for match in matches]"
   ]
  },
  {
   "cell_type": "code",
   "execution_count": 15,
   "metadata": {
    "scrolled": true
   },
   "outputs": [
    {
     "name": "stdout",
     "output_type": "stream",
     "text": [
      "[('Pseudo Question\\n', {'entities': []}), ('What is the Asia revenue in US Dollar for global beauty and personal care products market by 2025 ?\\n', {'entities': [(28, 37, 'currency')]}), ('What was the value (in US Dollar) of global beauty and personal care products market in 2017 ?\\n', {'entities': [(23, 32, 'currency')]}), ('What was the market size (in US Dollar) of global cast acrylic sheets market in 2016 ?\\n', {'entities': [(29, 38, 'currency')]}), ('What is the expected market size (in US Dollar) of global cast acrylic sheets market by 2022 ?\\n', {'entities': [(37, 46, 'currency')]}), ('What was the market size (in US Dollar) of global cast acrylic sheets market in 2017 ?\\n', {'entities': [(29, 38, 'currency')]}), ('What is the expected market size (in US Dollar) of global cast acrylic sheets market by 2023 ?\\n', {'entities': [(37, 46, 'currency')]}), ('How much Electrical Machinery and Equipment did India import in 2018 ?\\n', {'entities': []}), ('How much Electrical Machinery and Equipment did India export (in US Dollar) in 2018 ?\\n', {'entities': [(65, 74, 'currency')]}), ('What is the expected market size (in US Dollar) of global chatbot market by 2024 ?\\n', {'entities': [(37, 46, 'currency')]}), ('How many metric tons of Linear Low-Density Polyethylene was produced in India in FY 2016-2017 ?\\n', {'entities': []}), ('How many metric tons of Linear Low-Density Polyethylene was produced in India in FY 2015-2016 ?\\n', {'entities': []}), ('How many metric tons of Linear Low-Density Polyethylene was produced in India in FY 2014-2015 ?\\n', {'entities': []}), ('How many metric tons of Linear Low-Density Polyethylene was produced in India in FY 2013-2014 ?\\n', {'entities': []}), ('What was the total consumption (in Metric Tons) of Linear Low-Density Polyethylene in India in FY 2016-2017?\\n', {'entities': []}), ('What was the total consumption (in Metric Tons) of Linear Low-Density Polyethylene in India in FY 2015-2016?\\n', {'entities': []}), ('What was the total consumption (in Metric Tons) of Linear Low-Density Polyethylene in India in FY 2014-2015?\\n', {'entities': []}), ('What was the total consumption (in Metric Tons) of Linear Low-Density Polyethylene in India in FY 2013-2014?\\n', {'entities': []}), ('What was the market size (in US Dollar) of global social media market in 2017 ?\\n', {'entities': [(29, 38, 'currency')]}), ('What was the market size (in US Dollar) of northern america social media market in 2017 ?\\n', {'entities': [(29, 38, 'currency')]}), ('In which year did the social media market size of United States reached 4544941630 USD ?\\n', {'entities': []}), ('How much was the revenue (in European Euro) of global social media market in 2015 ?\\n', {'entities': []}), ('How many metric tons of acetic acid was produced in India in FY 2016-2017 ?\\n', {'entities': []}), ('How many metric tons of acetic acid was produced in India in FY 2015-2016 ?\\n', {'entities': []}), ('How many metric tons of acetic acid was produced in India in FY 2014-2015 ?\\n', {'entities': []}), ('How many metric tons of acetic acid was produced in India in FY 2013-2014 ?\\n', {'entities': []}), (\"When will Europe's Acrylic sheet market is projected to reach 8565959190 USD ?\\n\", {'entities': []}), ('What is the estimated global market size (in US Dollar) of Aerogel by 2025 ?\\n', {'entities': [(45, 54, 'currency')]}), ('What is the estimated global aerogel sales (in US Dollar) by 2021 ?\\n', {'entities': [(47, 56, 'currency')]}), ('What is the projected aerogel global  market size (in US Dollar) by 2022 ?\\n', {'entities': [(54, 63, 'currency')]}), ('What was the value of global aerogel market size (in US Dollar) in 2016 ?\\n', {'entities': [(53, 62, 'currency')]}), ('What is the projected aerogel global  market size (in US Dollar) by 2026 ?\\n', {'entities': [(54, 63, 'currency')]}), ('What was the value of global aerogel market size (in US Dollar) in 2015 ?\\n', {'entities': [(53, 62, 'currency')]}), ('What was the value of global aerogel market size (in US Dollar) in 2017 ?\\n', {'entities': [(53, 62, 'currency')]}), ('What is the estimated global aerogel market size (in US Dollar) by 2021 ?\\n', {'entities': [(53, 62, 'currency')]}), ('What was the market size in terms of units for air purifiers in India in 2015 ?\\n', {'entities': []}), ('What was the global air purifier market size (in US Dollar) in 2017 ?\\n', {'entities': [(49, 58, 'currency')]}), ('What is estimated value of global air purifier market (in US Dollar) by 2023 ?\\n', {'entities': [(58, 67, 'currency')]}), ('How many tons of domestic cargo traffic was serviced in India in 2018 ?\\n', {'entities': []}), ('How many tons of domestic cargo traffic was serviced in India in 2017 ?\\n', {'entities': []}), ('How many tons of domestic cargo traffic was serviced in India in 2016 ?\\n', {'entities': []}), ('How many tons of domestic cargo traffic was serviced in India in 2015 ?\\n', {'entities': []}), ('How many tons of domestic cargo traffic was serviced in India in 2014 ?\\n', {'entities': []}), ('How much revenue (in INR) was generated by the animation market in India in 2016 ?\\n', {'entities': [(21, 24, 'currency')]}), ('How much revenue (in INR) was generated by the animation market in India in 2017 ?\\n', {'entities': [(21, 24, 'currency')]}), ('How much revenue (in INR) is expected to be  generated by the animation market in India in 2020 ?\\n', {'entities': [(21, 24, 'currency')]}), ('What was the value of Indian animation and VFX market size (in INR) in 2016 ?\\n', {'entities': [(63, 66, 'currency')]}), ('What was the value of Indian animation and VFX market size (in INR) in 2017 ?\\n', {'entities': [(63, 66, 'currency')]}), ('What is the projected value of Indian animation and VFX market size (in INR) in 2010 ?\\n', {'entities': [(72, 75, 'currency')]}), (\"What was the market size (in US Dollar) of india's electric vehicle market in 2017 ?\\n\", {'entities': [(29, 38, 'currency')]}), (\"What was the market size (in US Dollar) of India's automotive aftermarket in 2017 ?\\n\", {'entities': [(29, 38, 'currency')]}), ('\"How much total export (in US Dollar) did India do in the automotive aftermarket segment till March, 2017 ?\"\\n', {'entities': [(27, 36, 'currency')]}), ('When is global automotive aftermarket projected to reach 181687286550 USD ?\\n', {'entities': []}), ('What was the market size (in US Dollar) of global automotive aftermarket in 2016 ?\\n', {'entities': [(29, 38, 'currency')]}), ('What was the market size (in US Dollar) of united states automotive aftermarket in 2017 ?\\n', {'entities': [(29, 38, 'currency')]}), ('How much revenue (in INR) was generated through the sale of broadcast rights in India in 2016 ?\\n', {'entities': [(21, 24, 'currency')]}), ('How much revenue (in INR) was generated through the sale of broadcast rights in India in 2017 ?\\n', {'entities': [(21, 24, 'currency')]}), ('How much revenue (in INR) is expected to be generated through the sale of broadcast rights in India for 2020 ?\\n', {'entities': [(21, 24, 'currency')]}), ('What is the estimated global market size (in US Dollar) of cast elastomers market by 2024 ?\\n', {'entities': [(45, 54, 'currency')]}), ('What was the market size (in US Dollar) of cast elastomers in 2017 ?\\n', {'entities': [(29, 38, 'currency')]}), ('What is the estimated global market size (in US Dollar) of cast elastomers market by 2023 ?\\n', {'entities': [(45, 54, 'currency')]}), ('what was the global market size (in US Dollar) of cast elastomers 2018 ?\\n', {'entities': [(36, 45, 'currency')]}), ('What was the market size (in US Dollar) of global chatbot market in 2017 ?\\n', {'entities': [(29, 38, 'currency')]}), ('What is the expected market size (in US Dollar) of global chatbot market by 2024 ?\\n', {'entities': [(37, 46, 'currency')]}), ('What is the forecasted market size (in US Dollar) of global chatbot market by 2025 ?\\n', {'entities': [(39, 48, 'currency')]}), ('What is the expected market size (in US Dollar) of global chatbot market by 2023 ?\\n', {'entities': [(37, 46, 'currency')]}), ('What was the market size (in US Dollar) of global chatbot market in 2015 ?\\n', {'entities': [(29, 38, 'currency')]}), ('What was the market size (in US Dollar) of global chatbot market in 2016 ?\\n', {'entities': [(29, 38, 'currency')]}), ('What is the forecasted market size (in US Dollar) of global chatbot market by 2020 ?\\n', {'entities': [(39, 48, 'currency')]}), ('What was the count of cinema multiplexes screens in India in 2015 ?\\n', {'entities': []}), ('What was the count of cinema multiplexes screens in India in 2017 ?\\n', {'entities': []}), ('What was the count of cinema screens in India in 2015 ?\\n', {'entities': []}), ('What was the count of cinema screens in India in 2017 ?\\n', {'entities': []}), ('What was the count of cinema single screens in India in 2015 ?\\n', {'entities': []}), ('What was the count of cinema single screens in India in 2017 ?\\n', {'entities': []}), ('What was the total capacity (in Tons) of cold storage facility in India in 2017 ?\\n', {'entities': []}), ('What was the total capacity (in Tons) of cold storage facility in India in 2016 ?\\n', {'entities': []}), ('How many tons of total capacity of cold storage facility were in India in 2015 ?\\n', {'entities': []}), ('How many tons of total capacity of cold storage facility were in India in 2014 ?\\n', {'entities': []}), ('What is the expected sales of construction equipment in India in 2022 ?\\n', {'entities': []}), ('What is the projected construction equipment global  market size (in US Dollar) by 2024 ?\\n', {'entities': [(69, 78, 'currency')]}), ('What is the projected construction equipment global  market size (in US Dollar) by 2025 ?\\n', {'entities': [(69, 78, 'currency')]}), ('How much quantity of construction equipment units were sold in India in 2014 ?\\n', {'entities': []}), ('What would be the estimated global market size (in US Dollar) of elastomers by 2021 ? \\n', {'entities': [(51, 60, 'currency')]}), ('What was the global market size (in US Dollar) of elastomers in 2016 ?\\n', {'entities': [(36, 45, 'currency')]}), ('What is the estimated global market size  (in US Dollar) of elastomers by 2025 ? \\n', {'entities': [(46, 55, 'currency')]}), ('What was the global market size (in US Dollar) of elastomers in 2017 ?\\n', {'entities': [(36, 45, 'currency')]}), ('How many metric tons of elastomers was produced worldwide in 2013 ?\\n', {'entities': []}), ('How many metric tons of elastomers is estimated to be produced worldwide in 2019 ?\\n', {'entities': []}), ('What was the global market size (in US Dollar) of elastomers in 2018 ?\\n', {'entities': [(36, 45, 'currency')]}), ('How many timeshare resorts were there in the US in 2017 ?\\n', {'entities': []}), ('How many timeshare units were there in the US in 2017 ?\\n', {'entities': []}), ('How many timeshare resorts were there in the US in 2014 ?\\n', {'entities': []}), ('What was the total number of timeshare resorts in the US in 2015 ?\\n', {'entities': []}), ('\"In US, how many timeshare resorts were there in 2016 ?\"\\n', {'entities': []}), ('What was the total per day average room rate (in INR) of a 2 star hotel in India in 2016 ?\\n', {'entities': [(49, 52, 'currency')]}), ('What was the total per day average room rate (in INR) of a 2 star hotel in India in 2015 ?\\n', {'entities': [(49, 52, 'currency')]}), ('How many days of average length of stay in 2 star hotel was reported in the India in 2014 ?\\n', {'entities': []}), ('How many days of average length of stay in 2 star hotel was reported in the India in 2015 ?\\n', {'entities': []}), ('What was the average length of stay (in Days) of a 2 star hotel in India in 2016 ?\\n', {'entities': []}), ('What was the average length of stay (in Days) of a 2 star hotel in India in 2017 ?', {'entities': []}), ('', {'entities': []})]\n"
     ]
    }
   ],
   "source": [
    "res = []\n",
    "to_train_ents = []\n",
    "with open('/Users/shashidharreddythangella/Downloads/Pseudo_Question .csv') as data:\n",
    "    line= True\n",
    "    while line:\n",
    "        line = data.readline()\n",
    "        mnlp_line = nlp(line)\n",
    "        matches = matcher(mnlp_line)\n",
    "        res = [offseter(label, mnlp_line, x)\n",
    "               for x\n",
    "               in matches]\n",
    "        to_train_ents.append((line, dict(entities=res))) \n",
    "    print(to_train_ents)"
   ]
  },
  {
   "cell_type": "code",
   "execution_count": 7,
   "metadata": {},
   "outputs": [
    {
     "ename": "IndexError",
     "evalue": "list index out of range",
     "output_type": "error",
     "traceback": [
      "\u001b[0;31m---------------------------------------------------------------------------\u001b[0m",
      "\u001b[0;31mIndexError\u001b[0m                                Traceback (most recent call last)",
      "\u001b[0;32m<ipython-input-7-a1eab8e94aba>\u001b[0m in \u001b[0;36m<module>\u001b[0;34m()\u001b[0m\n\u001b[1;32m      4\u001b[0m     \u001b[0;32mif\u001b[0m \u001b[0mlen\u001b[0m\u001b[0;34m(\u001b[0m\u001b[0mitem\u001b[0m\u001b[0;34m[\u001b[0m\u001b[0;36m1\u001b[0m\u001b[0;34m]\u001b[0m\u001b[0;34m[\u001b[0m\u001b[0;34m'entities'\u001b[0m\u001b[0;34m]\u001b[0m\u001b[0;34m)\u001b[0m\u001b[0;34m!=\u001b[0m\u001b[0;36m0\u001b[0m\u001b[0;34m:\u001b[0m\u001b[0;34m\u001b[0m\u001b[0m\n\u001b[1;32m      5\u001b[0m         \u001b[0mnew\u001b[0m\u001b[0;34m=\u001b[0m\u001b[0mitem\u001b[0m\u001b[0;34m\u001b[0m\u001b[0m\n\u001b[0;32m----> 6\u001b[0;31m     \u001b[0mabc\u001b[0m\u001b[0;34m=\u001b[0m\u001b[0mnew\u001b[0m\u001b[0;34m[\u001b[0m\u001b[0;36m1\u001b[0m\u001b[0;34m]\u001b[0m\u001b[0;34m[\u001b[0m\u001b[0;34m'entities'\u001b[0m\u001b[0;34m]\u001b[0m\u001b[0;34m\u001b[0m\u001b[0m\n\u001b[0m\u001b[1;32m      7\u001b[0m     \u001b[0;31m#print(new)\u001b[0m\u001b[0;34m\u001b[0m\u001b[0;34m\u001b[0m\u001b[0m\n\u001b[1;32m      8\u001b[0m \u001b[0;34m\u001b[0m\u001b[0m\n",
      "\u001b[0;31mIndexError\u001b[0m: list index out of range"
     ]
    }
   ],
   "source": [
    "new=[]\n",
    "abc=[]\n",
    "for item in to_train_ents:\n",
    "    if len(item[1]['entities'])!=0:\n",
    "        new=item\n",
    "    abc=new[1]['entities']\n",
    "    #print(new)\n",
    "    "
   ]
  },
  {
   "cell_type": "code",
   "execution_count": null,
   "metadata": {},
   "outputs": [],
   "source": [
    "for _, x in item[1]:\n",
    "    for ent in annotations.get('entities'):\n",
    "        ner.add_label('currency')"
   ]
  },
  {
   "cell_type": "code",
   "execution_count": null,
   "metadata": {},
   "outputs": [],
   "source": [
    "#show\n",
    "# aaa =dict( {'cats': {'POSITIVE': 0.1234}})\n",
    "# print(aaa['cats']['POSITIVE'])\n",
    "from spacy.gold import biluo_tags_from_offsets\n",
    "for item in to_train_ents:\n",
    "    doc = nlp('What is the projected revenue in US Dollar for global beauty and personal care products market by 2025 ?')\n",
    "    entities = [(32, 41, 'currency')]\n",
    "    tags = biluo_tags_from_offsets(doc, entities)\n",
    "print(tags)\n",
    "#assert tags == [\"O\", \"O\", \"U-LOC\", \"O\"]"
   ]
  },
  {
   "cell_type": "code",
   "execution_count": null,
   "metadata": {},
   "outputs": [],
   "source": [
    "optimizer = nlp.begin_training()\n",
    "\n",
    "other_pipes = [pipe\n",
    "              for pipe\n",
    "              in nlp.pipe_names\n",
    "              if pipe != 'ner']\n",
    "with nlp.disable_pipes(*other_pipes):\n",
    "    for itn in range (10):\n",
    "        losses = {}\n",
    "        #random.shuffle(new)\n",
    "        for item in new:\n",
    "            nlp.update([new[0]],\n",
    "                        [new[1]],\n",
    "                        sgd=optimizer,\n",
    "                        drop = 0.35,\n",
    "                        losses=losses)\n",
    "        #print('Losses',losses)\n"
   ]
  },
  {
   "cell_type": "code",
   "execution_count": null,
   "metadata": {},
   "outputs": [],
   "source": [
    "test_text = 'What is the projected revenue in US Dollar for global beauty and personal care products market by 2025 ?'\n",
    "doc = nlp(test_text)\n",
    "#print(\"Entities in '%s'\" % test_text)\n",
    "print(doc)\n",
    "#print('shahsi',ent)\n",
    "for ent in doc.ents:\n",
    "    #print(ent.label_)\n",
    "    print(ent.text, ent.start_char, ent.end_char, ent.label_)"
   ]
  },
  {
   "cell_type": "code",
   "execution_count": null,
   "metadata": {},
   "outputs": [],
   "source": [
    "if output_dir is not None:\n",
    "    output_dir = Path(output_dir)\n",
    "    if not output_dir.exists():\n",
    "        output_dir.mkdir()\n",
    "    nlp.meta['name'] = new_model_name  \n",
    "    nlp.to_disk(output_dir)\n",
    "    print(\"Saved model to\", output_dir)"
   ]
  },
  {
   "cell_type": "code",
   "execution_count": null,
   "metadata": {
    "scrolled": true
   },
   "outputs": [],
   "source": [
    "print(\"Loading from\", output_dir)\n",
    "nlp2 = spacy.load(output_dir)\n",
    "doc2 = nlp2(test_text)\n",
    "for ent in doc2.ents:\n",
    "    print(ent.label_, ent.text)"
   ]
  },
  {
   "cell_type": "raw",
   "metadata": {},
   "source": [
    "with open(\"shashi.txt\" ,\"w\") as output:\n",
    "    for i in to_train_ents:\n",
    "        output.write(str(i) + \"\\n\")"
   ]
  },
  {
   "cell_type": "code",
   "execution_count": null,
   "metadata": {},
   "outputs": [],
   "source": []
  }
 ],
 "metadata": {
  "kernelspec": {
   "display_name": "Python 3",
   "language": "python",
   "name": "python3"
  },
  "language_info": {
   "codemirror_mode": {
    "name": "ipython",
    "version": 3
   },
   "file_extension": ".py",
   "mimetype": "text/x-python",
   "name": "python",
   "nbconvert_exporter": "python",
   "pygments_lexer": "ipython3",
   "version": "3.6.5"
  }
 },
 "nbformat": 4,
 "nbformat_minor": 2
}
