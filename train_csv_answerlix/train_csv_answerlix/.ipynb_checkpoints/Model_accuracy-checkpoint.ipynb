{
 "cells": [
  {
   "cell_type": "code",
   "execution_count": null,
   "metadata": {},
   "outputs": [],
   "source": [
    "import pandas as pd\n",
    "from sklearn.metrics import confusion_matrix \n",
    "from sklearn.metrics import accuracy_score \n",
    "from sklearn.metrics import classification_report "
   ]
  },
  {
   "cell_type": "code",
   "execution_count": null,
   "metadata": {},
   "outputs": [],
   "source": [
    "generated_answers = pd.read_csv(\"Outputs/file_csv.csv\") "
   ]
  },
  {
   "cell_type": "code",
   "execution_count": null,
   "metadata": {},
   "outputs": [],
   "source": [
    "generated_answers['category'] = 'yes'\n",
    "generated_answers.head()"
   ]
  },
  {
   "cell_type": "code",
   "execution_count": null,
   "metadata": {},
   "outputs": [],
   "source": [
    "total_questions = int(generated_answers.iloc[-1][\"question_number\"])\n",
    "index_list = [x for x in range(0,total_questions+1)]"
   ]
  },
  {
   "cell_type": "code",
   "execution_count": null,
   "metadata": {},
   "outputs": [],
   "source": [
    "generated_answers.set_index(['question_number','category'], inplace=True)\n",
    "(ques_index, cat_index) = generated_answers.index.levels\n",
    "new_index = pd.MultiIndex.from_product([index_list, cat_index])"
   ]
  },
  {
   "cell_type": "code",
   "execution_count": null,
   "metadata": {
    "scrolled": true
   },
   "outputs": [],
   "source": [
    "new_answers = generated_answers.reindex(new_index)\n",
    "new_answers.answer_final[new_answers.answer_final == 'no value found'] = '0' \n",
    "new_answers = new_answers.fillna(0).astype(float)\n",
    "new_answers['answer_final'] = new_answers['answer_final'].astype(int)"
   ]
  },
  {
   "cell_type": "code",
   "execution_count": null,
   "metadata": {},
   "outputs": [],
   "source": [
    "k= pd.read_csv(\"Outputs/final_answers.csv\",header = None)"
   ]
  },
  {
   "cell_type": "code",
   "execution_count": null,
   "metadata": {
    "scrolled": true
   },
   "outputs": [],
   "source": [
    "actual = k[0].values.tolist()\n",
    "predicted = new_answers['answer_final'].values.tolist()\n",
    "count = 0 \n",
    "total = len(actual)\n",
    "for i in range(0,total):\n",
    "    if (actual[i] == predicted[i]):\n",
    "        count = count+1\n",
    "print('The final accuracy score for test questions :',count/total*100)"
   ]
  },
  {
   "cell_type": "code",
   "execution_count": 1,
   "metadata": {},
   "outputs": [
    {
     "name": "stdout",
     "output_type": "stream",
     "text": [
      "shashi\n"
     ]
    }
   ],
   "source": [
    "print('shashi')"
   ]
  },
  {
   "cell_type": "code",
   "execution_count": null,
   "metadata": {},
   "outputs": [],
   "source": []
  }
 ],
 "metadata": {
  "kernelspec": {
   "display_name": "Python 3",
   "language": "python",
   "name": "python3"
  },
  "language_info": {
   "codemirror_mode": {
    "name": "ipython",
    "version": 3
   },
   "file_extension": ".py",
   "mimetype": "text/x-python",
   "name": "python",
   "nbconvert_exporter": "python",
   "pygments_lexer": "ipython3",
   "version": "3.6.5"
  }
 },
 "nbformat": 4,
 "nbformat_minor": 2
}
