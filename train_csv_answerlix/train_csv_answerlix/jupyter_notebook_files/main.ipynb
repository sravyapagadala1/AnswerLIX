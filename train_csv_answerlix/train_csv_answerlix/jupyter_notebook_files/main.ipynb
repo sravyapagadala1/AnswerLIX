{
 "cells": [
  {
   "cell_type": "code",
   "execution_count": null,
   "metadata": {},
   "outputs": [],
   "source": [
    "import pandas as pd\n",
    "import numpy as np\n",
    "import re\n",
    "import sklearn\n",
    "import logging\n",
    "from textblob.classifiers import NaiveBayesClassifier as NBC\n",
    "import sklearn\n",
    "import pandas as pd\n",
    "from sklearn.model_selection import train_test_split\n",
    "from sklearn import model_selection, preprocessing, linear_model, naive_bayes, metrics, svm\n",
    "import pickle\n",
    "from sklearn.model_selection import train_test_split\n",
    "from sklearn.svm import LinearSVC\n",
    "from sklearn.feature_extraction.text import TfidfVectorizer\n",
    "from sklearn.feature_extraction.text import TfidfTransformer\n",
    "from sklearn.feature_extraction.text import CountVectorizer\n",
    "from sklearn.model_selection import cross_val_score\n",
    "from sklearn.naive_bayes import MultinomialNB\n",
    "from sklearn.feature_extraction.text import TfidfVectorizer\n",
    "from sklearn.feature_extraction.text import TfidfTransformer\n",
    "from sklearn.feature_extraction.text import CountVectorizer\n",
    "from sklearn.model_selection import cross_val_score\n",
    "from sklearn.naive_bayes import MultinomialNB\n",
    "import sklearn\n",
    "LOG_FILENAME = \"logfile.log\"\n",
    "for handler in logging.root.handlers[:]:\n",
    "    logging.root.removeHandler(handler)\n",
    "    \n",
    "logging.basicConfig(filename=LOG_FILENAME,level=logging.DEBUG)\n",
    "\n",
    "# data_source = 'Inputs_final/Datasource.csv'\n",
    "print(\"Enter the CSV name with complete path : For instance : Inputs_final/Datasource.csv\")\n",
    "data_source=input()\n",
    "df = pd.read_csv(data_source)\n",
    "\n",
    "logging.info(\"New session \")\n",
    "logging.info(\"Reading Data source \")"
   ]
  },
  {
   "cell_type": "markdown",
   "metadata": {},
   "source": [
    "# Text Classification"
   ]
  },
  {
   "cell_type": "code",
   "execution_count": null,
   "metadata": {},
   "outputs": [],
   "source": [
    "logging.info(\"Reading input files \")"
   ]
  },
  {
   "cell_type": "code",
   "execution_count": null,
   "metadata": {},
   "outputs": [],
   "source": [
    "# final_train = \"Inputs_final/train_quesitons_70_textclassification.csv\"\n",
    "print(\"Enter the train questions CSV for text classifictaion(Question and target column) : For instance : Inputs_final/train_quesitons_70_textclassification.csv\")\n",
    "final_train=input()\n",
    "# df_train = pd.read_csv(final_train)\n",
    "\n",
    "# print(\"/n\")\n",
    "# test_question=\"Inputs_final/test_questions_30.txt\""
   ]
  },
  {
   "cell_type": "code",
   "execution_count": null,
   "metadata": {},
   "outputs": [],
   "source": [
    "print(\"Enter the .txt file containing train questions : For instance : Inputs_final/test_questions_30.txt\")\n",
    "test_question=input()"
   ]
  },
  {
   "cell_type": "code",
   "execution_count": null,
   "metadata": {},
   "outputs": [],
   "source": [
    "final_train_questions = pd.read_csv(final_train)\n",
    "final_train_questions = final_train_questions.values.tolist()"
   ]
  },
  {
   "cell_type": "code",
   "execution_count": null,
   "metadata": {},
   "outputs": [],
   "source": [
    "x_train ,x_test = train_test_split(final_train_questions,test_size=0.3) "
   ]
  },
  {
   "cell_type": "code",
   "execution_count": null,
   "metadata": {},
   "outputs": [],
   "source": [
    "clf = NBC(x_train) "
   ]
  },
  {
   "cell_type": "code",
   "execution_count": null,
   "metadata": {},
   "outputs": [],
   "source": [
    "print(\"Naive Bayes Classifier Accuracy is\",clf.accuracy(x_test))"
   ]
  },
  {
   "cell_type": "code",
   "execution_count": null,
   "metadata": {},
   "outputs": [],
   "source": [
    "target_column = []\n",
    "f = open(test_question, \"r\")\n",
    "lines = f.readlines()\n",
    "for i in lines:\n",
    "    target_column.append(clf.classify(i))"
   ]
  },
  {
   "cell_type": "code",
   "execution_count": null,
   "metadata": {},
   "outputs": [],
   "source": [
    "print(\"target_column : \\n\", target_column)"
   ]
  },
  {
   "cell_type": "code",
   "execution_count": null,
   "metadata": {},
   "outputs": [],
   "source": [
    "# Save our trained Model in pkl model\n",
    "filename = 'pkl_files/classification_model_answer.pkl'\n",
    "pickle.dump(clf, open(filename, 'wb'))"
   ]
  },
  {
   "cell_type": "markdown",
   "metadata": {},
   "source": [
    "# Generate custom tags"
   ]
  },
  {
   "cell_type": "code",
   "execution_count": null,
   "metadata": {},
   "outputs": [],
   "source": [
    "logging.info(\"Start generating customer tags\")\n",
    "df = df.replace(np.nan, 'No Value Found', regex=True)\n",
    "df=df.apply(lambda x: x.astype(str).str.lower())"
   ]
  },
  {
   "cell_type": "code",
   "execution_count": null,
   "metadata": {},
   "outputs": [],
   "source": [
    "# a =\"tag_values_\"\n",
    "tag_values_csv =[]\n",
    "headers=df.columns\n",
    "for header in headers:\n",
    "    if header == \"Date\" or header == \"date\":\n",
    "        #print(header)\n",
    "        df[header] = pd.to_datetime(df[header])\n",
    "        df['Year'], df['Month'], df['Day'] = df[header].dt.year, df[header].dt.strftime('%B'), df[header].dt.day\n",
    "        del df[header]\n",
    "df = df.apply(lambda x: x.astype(str).str.lower())\n",
    "df.columns = map(str.lower, df.columns)\n",
    "# print(df)\n",
    "headers=df.columns\n",
    "for x in range(len(headers)):\n",
    "    f_tag=headers[x]\n",
    "    #print(f_tag)\n",
    "    tag_values_csv.append(f_tag)\n",
    "    tag_values_csv\n",
    "dictionary = {}\n",
    "for i in range(len(tag_values_csv)):\n",
    "    dictionary[tag_values_csv[i]] = df.iloc[:,i].unique().tolist()\n",
    "dictionary\n",
    "[dict([a, str(x)] for a,x in dictionary.items())]\n"
   ]
  },
  {
   "cell_type": "code",
   "execution_count": null,
   "metadata": {
    "scrolled": false
   },
   "outputs": [],
   "source": [
    "dictionary['unit_id']"
   ]
  },
  {
   "cell_type": "code",
   "execution_count": null,
   "metadata": {},
   "outputs": [],
   "source": [
    "key_label=list(dictionary.keys())\n",
    "values=list(dictionary.values())\n",
    "logging.info(\"customer tags generated\")"
   ]
  },
  {
   "cell_type": "code",
   "execution_count": null,
   "metadata": {},
   "outputs": [],
   "source": [
    "import spacy\n",
    "from spacy.matcher import PhraseMatcher, Matcher\n",
    "from pathlib import Path\n",
    "import plac\n",
    "from spacy.util import minibatch, compounding\n",
    "import random\n",
    "logging.info(\"Load spacy model\")\n",
    "nlp = spacy.load('en')\n",
    "matcher = PhraseMatcher(nlp.vocab)\n",
    "if 'ner' not in nlp.pipe_names:\n",
    "    ner = nlp.create_pipe('ner')\n",
    "    nlp.add_pipe(ner)\n",
    "else:\n",
    "    ner = nlp.get_pipe('ner')"
   ]
  },
  {
   "cell_type": "code",
   "execution_count": null,
   "metadata": {},
   "outputs": [],
   "source": [
    "label_list=[]\n",
    "matchitem_list=[]\n",
    "def offseter(doc, matchitem, dictionary):\n",
    "    o_one = len(str(doc[0:matchitem[1]]))+1\n",
    "    subdoc= doc[matchitem[1]:matchitem[2]]\n",
    "    #print(subdoc)\n",
    "    o_two = o_one + len(str(subdoc))\n",
    "    for k in dictionary.keys():\n",
    "        if str(subdoc) in dictionary[k]:\n",
    "            label_list.append(k)\n",
    "    matchitem_list.append(subdoc)\n",
    "    return (o_one, o_two)\n"
   ]
  },
  {
   "cell_type": "code",
   "execution_count": null,
   "metadata": {},
   "outputs": [],
   "source": [
    "for l in key_label:\n",
    "    for v in values:\n",
    "        for i in v:\n",
    "            matcher.add(l, None, nlp(i))"
   ]
  },
  {
   "cell_type": "code",
   "execution_count": null,
   "metadata": {},
   "outputs": [],
   "source": [
    "one = nlp('india united states dollar ?')\n",
    "matches = matcher(one)\n",
    "[match for match in matches]"
   ]
  },
  {
   "cell_type": "code",
   "execution_count": null,
   "metadata": {},
   "outputs": [],
   "source": [
    "two = nlp('united states dollar for big data')\n",
    "matches = matcher(two)\n",
    "[match for match in matches]\n"
   ]
  },
  {
   "cell_type": "markdown",
   "metadata": {},
   "source": [
    "# Loop For tagging"
   ]
  },
  {
   "cell_type": "code",
   "execution_count": null,
   "metadata": {},
   "outputs": [],
   "source": [
    "# file_name='Inputs_final/train_quesitons_70.csv'\n",
    "\n",
    "print(\"Enter the train questions for custom NER model (just the Questions ) : For instance : Inputs_final/train_quesitons_70.csv\")\n",
    "file_name=input()\n",
    "# file_name = pd.read_csv(file_name)\n",
    "\n",
    "\n",
    "\n",
    "import re\n",
    "train_data =[]\n",
    "def linebyline (line):\n",
    "    res = []\n",
    "    to_train_ents = []\n",
    "    entities = {'entities':[]}\n",
    "    line=line.lower()\n",
    "    if \"fy\" in line:\n",
    "        line = re.sub(r'fy (\\d{4})-\\d{4}', r'fy \\1', line)\n",
    "    mnlp_line = nlp(line)\n",
    "    matches = matcher(mnlp_line)\n",
    "    res = [offseter(mnlp_line, x, dictionary)\n",
    "       for x\n",
    "       in matches]\n",
    "    entities = {'entities':[]}\n",
    "    for i in range(len(res)):\n",
    "        a= list(res[i])\n",
    "        a.append(label_list[i])\n",
    "        entities['entities'].append(tuple(a))\n",
    "    to_train_ents.append((line,entities))\n",
    "    return to_train_ents\n",
    "\n",
    "with open(file_name) as data1:\n",
    "    line= True\n",
    "    while line:\n",
    "        label_list = []\n",
    "        line = data1.readline()\n",
    "        final=linebyline(line)\n",
    "\n",
    "        train_data.append(final)\n",
    "\n",
    "flat_list = [item for sublist in train_data for item in sublist]\n",
    "\n",
    "print(flat_list)\n",
    "\n",
    "logging.info(\"Train data created!\")\n"
   ]
  },
  {
   "cell_type": "code",
   "execution_count": null,
   "metadata": {
    "scrolled": true
   },
   "outputs": [],
   "source": [
    "final_train_data=[]\n",
    "count=0\n",
    "for z in range(len(flat_list)):\n",
    "    if len(flat_list[z][1]['entities'])!=0:\n",
    "        count=count+1\n",
    "        final_train_data.append(flat_list[z])\n",
    "print(final_train_data)"
   ]
  },
  {
   "cell_type": "markdown",
   "metadata": {},
   "source": [
    "# Model Training"
   ]
  },
  {
   "cell_type": "code",
   "execution_count": null,
   "metadata": {},
   "outputs": [],
   "source": [
    "import csv\n",
    "from itertools import zip_longest\n",
    "\n",
    "TRAIN_DATA =final_train_data\n",
    "logging.info(\"Runnning spacy model\")\n",
    "\n",
    "def train_spacy(data,iterations):\n",
    "    TRAIN_DATA = data\n",
    "    nlp = spacy.blank('en')  \n",
    "    if 'ner' not in nlp.pipe_names:\n",
    "        ner = nlp.create_pipe('ner')\n",
    "        nlp.add_pipe(ner, last=True)\n",
    "       \n",
    "\n",
    "    # add labels\n",
    "    for _, annotations in TRAIN_DATA:\n",
    "         for ent in annotations.get('entities'):\n",
    "            ner.add_label(ent[2])\n",
    "\n",
    "    # get names of other pipes to disable them during training\n",
    "    other_pipes = [pipe for pipe in nlp.pipe_names if pipe != 'ner']\n",
    "    with nlp.disable_pipes(*other_pipes):  # only train NER\n",
    "        optimizer = nlp.begin_training()\n",
    "        for itn in range(iterations):\n",
    "            print(\"Starting iteration \" + str(itn))\n",
    "            random.shuffle(TRAIN_DATA)\n",
    "            losses = {}\n",
    "            for text, annotations in TRAIN_DATA:\n",
    "                nlp.update(\n",
    "                    [text],  # batch of texts\n",
    "                    [annotations],  # batch of annotations\n",
    "                    drop=0.2,  # dropout - make it harder to memorise data\n",
    "                    sgd=optimizer,  # callable to update weights\n",
    "                    losses=losses)\n",
    "            print(losses)\n",
    "    return nlp\n",
    "\n",
    "\n",
    "prdnlp = train_spacy(TRAIN_DATA, 20)\n",
    "logging.info(\"Fininshed 20 iterations!\")\n",
    "\n",
    "# Save our trained Model\n",
    "modelfile = input(\"Enter your Model Name: \")\n",
    "prdnlp.to_disk(modelfile)"
   ]
  },
  {
   "cell_type": "code",
   "execution_count": null,
   "metadata": {},
   "outputs": [],
   "source": [
    "# Save our trained Model in pkl model\n",
    "filename = 'pkl_files/finalized_model_answer.pkl'\n",
    "pickle.dump(prdnlp, open(filename, 'wb'))"
   ]
  },
  {
   "cell_type": "markdown",
   "metadata": {},
   "source": [
    "# Separate file"
   ]
  },
  {
   "cell_type": "code",
   "execution_count": null,
   "metadata": {},
   "outputs": [],
   "source": [
    "f = open(test_question, \"r\")\n",
    "lines = f.readlines()\n",
    "logging.info(\"writing into subsettinginput file\")\n",
    "with open('Outputs/subsettinginput.csv', 'w', encoding='utf-8',errors='ignore', newline='') as myfile:\n",
    "    wr = csv.writer(myfile)\n",
    "    for line in lines:\n",
    "        year_count=0\n",
    "        test_text=line.lower()\n",
    "        if \"fy\" in test_text:\n",
    "            test_text = re.sub(r'fy (\\d{4})-\\d{4}', r'fy \\1', test_text)\n",
    "        doc = prdnlp(test_text)\n",
    "        for ent in doc.ents:\n",
    "            tag=''\n",
    "            word_tagged=[ent.text]\n",
    "            label_tagged=[ent.label_]\n",
    "            tag= [word_tagged,label_tagged]\n",
    "            export_data = zip_longest(*tag, fillvalue = '')\n",
    "            wr.writerows(export_data)\n",
    "        wr.writerows('#')"
   ]
  },
  {
   "cell_type": "markdown",
   "metadata": {},
   "source": [
    "# Subsetting"
   ]
  },
  {
   "cell_type": "code",
   "execution_count": null,
   "metadata": {},
   "outputs": [],
   "source": [
    "sample = pd.read_csv(\"Outputs/subsettinginput.csv\",header=None)\n",
    "df = pd.DataFrame(df)\n",
    "df = df.apply(lambda x: x.astype(str).str.lower())\n",
    "sample = pd.DataFrame(sample)\n",
    "sample = sample.apply(lambda x: x.astype(str).str.lower())\n",
    "df.columns = map(str.lower, df.columns)\n",
    "logging.info(\"Reading from subsettinginput file\")"
   ]
  },
  {
   "cell_type": "code",
   "execution_count": null,
   "metadata": {},
   "outputs": [],
   "source": [
    "print(df.head(5))"
   ]
  },
  {
   "cell_type": "code",
   "execution_count": null,
   "metadata": {
    "scrolled": false
   },
   "outputs": [],
   "source": [
    "sample[0] = sample[0].map(lambda x: re.sub(r'\\s?\\?', '', x))\n",
    "sample.head(50)"
   ]
  },
  {
   "cell_type": "code",
   "execution_count": null,
   "metadata": {},
   "outputs": [],
   "source": [
    "print(df.shape)"
   ]
  },
  {
   "cell_type": "code",
   "execution_count": null,
   "metadata": {},
   "outputs": [],
   "source": [
    "#detect question boundary\n",
    "a=sample.index[sample[0] == '#']\n",
    "index=list(a)\n",
    "index\n",
    "no_of_question= len(index)\n",
    "print(no_of_question)"
   ]
  },
  {
   "cell_type": "code",
   "execution_count": null,
   "metadata": {},
   "outputs": [],
   "source": [
    "target_column = [x.lower() for x in target_column] \n",
    "print(type(target_column))"
   ]
  },
  {
   "cell_type": "code",
   "execution_count": null,
   "metadata": {},
   "outputs": [],
   "source": [
    "# logging.info(\"subsetting logic begins\")\n",
    "# def lookup (sub_list_e,sub_list_t,df,q_num):\n",
    "#     sample_sub_dict = dict(zip(sub_list_t, sub_list_e))\n",
    "#     val = sample_sub_dict.values()\n",
    "#     key = sample_sub_dict.keys()\n",
    "#     valu=['no ans']\n",
    "#     res = pd.DataFrame(valu)\n",
    "#     for k,v in sample_sub_dict.items():\n",
    "#         sdf = subset_return(df,k,v)\n",
    "#         df = sdf  \n",
    "#     print(\"answer,\",df[target_column[q_num]])\n",
    "#     return df[target_column[q_num]]\n",
    "\n",
    "# def subset_return(df,k,v):\n",
    "#     return df[df[str(k)] == str(v)]\n",
    "# #read csv sample\n",
    "# list_e = sample[0].tolist()\n",
    "# list_t = sample[1].tolist()\n",
    "# counter=0\n",
    "# q_num=0\n",
    "# #question wise lists\n",
    "# for i in index:\n",
    "#     sub_list_e=list_e[counter:i]\n",
    "#     sub_list_t=list_t[counter:i]\n",
    "#     counter=i+1\n",
    "#     value=lookup(sub_list_e,sub_list_t,df,q_num)\n",
    "# #     print(value)\n",
    "#     q_num=q_num+1\n",
    "#     print(\"*\")\n",
    "# logging.info(\"subsetting logic ends\")\n",
    "# logging.info(\"\")"
   ]
  },
  {
   "cell_type": "code",
   "execution_count": null,
   "metadata": {
    "scrolled": false
   },
   "outputs": [],
   "source": [
    "#read csv sample\n",
    "#**** changed subsetting function ****#\n",
    "list_e = sample[0].tolist()\n",
    "list_t = sample[1].tolist()\n",
    "counter=0\n",
    "q_num=0\n",
    "list_result = []\n",
    "for i in index:\n",
    "    sample\n",
    "    sub_list_e=list_e[counter:i]\n",
    "    #print(sub_list_e)\n",
    "    sub_list_t=list_t[counter:i]\n",
    "    #print(sub_list_t)\n",
    "    sample_sub_dict = dict(zip(sub_list_t, sub_list_e))\n",
    "    #print(sample_sub_dict)\n",
    "    qry = ' and '.join([\"{} == '{}'\".format(k,v) for k,v in sample_sub_dict.items()])\n",
    "    #result_df = merge(pd.DataFrame(sample_sub_dict,index = [0]), df)\n",
    "    result_df = df.query(qry)\n",
    "    print(result_df[target_column[q_num]])\n",
    "    list_result.append(result_df[target_column[q_num]])\n",
    "    counter=i+1\n",
    "    q_num=q_num+1"
   ]
  },
  {
   "cell_type": "code",
   "execution_count": null,
   "metadata": {
    "scrolled": false
   },
   "outputs": [],
   "source": [
    "# saving answers into csv file\n",
    "final_df = pd.DataFrame({'col':list_result})\n",
    "final_df.to_csv(\"Outputs/file_csv.csv\", sep=' ')\n",
    "file_csv = pd.read_csv(\"Outputs/file_csv.csv\",error_bad_lines=False)\n",
    "file_csv = file_csv[file_csv[' col'].str.contains(\"\\\"\")]\n",
    "file_csv[['question_number','answer']] = file_csv[' col'].str.split('\\\"',expand=True)\n",
    "file_csv['answer'] = file_csv['answer'].str.replace(\"    \",\",\")\n",
    "file_csv['answer'] = file_csv['answer'].str.replace(\", \",\",\")\n",
    "file_csv['answer'] = file_csv['answer'].str.replace(\",,\",\",\")\n",
    "file_csv['answer'] = file_csv['answer'].str.replace(\",,,\",\",\")\n",
    "file_csv[['answer_column','answer_final']] = file_csv['answer'].str.split(',',expand=True)\n",
    "file_csv = file_csv.reset_index(drop=True)\n",
    "file_csv = file_csv.drop(columns = ['answer_column','answer',' col'])\n",
    "file_csv.to_csv(\"Outputs/file_csv.csv\",index=False)\n",
    "print(file_csv)"
   ]
  }
 ],
 "metadata": {
  "kernelspec": {
   "display_name": "Python 3",
   "language": "python",
   "name": "python3"
  },
  "language_info": {
   "codemirror_mode": {
    "name": "ipython",
    "version": 3
   },
   "file_extension": ".py",
   "mimetype": "text/x-python",
   "name": "python",
   "nbconvert_exporter": "python",
   "pygments_lexer": "ipython3",
   "version": "3.6.5"
  }
 },
 "nbformat": 4,
 "nbformat_minor": 2
}
