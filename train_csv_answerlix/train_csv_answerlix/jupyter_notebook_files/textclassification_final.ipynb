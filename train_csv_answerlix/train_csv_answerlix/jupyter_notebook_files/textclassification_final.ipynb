{
 "cells": [
  {
   "cell_type": "code",
   "execution_count": 2,
   "metadata": {},
   "outputs": [],
   "source": [
    "import pandas as pd\n",
    "import numpy as np"
   ]
  },
  {
   "cell_type": "code",
   "execution_count": 16,
   "metadata": {},
   "outputs": [],
   "source": [
    "from sklearn.linear_model import LogisticRegression\n",
    "from sklearn.ensemble import RandomForestClassifier\n",
    "from sklearn.svm import LinearSVC\n",
    "from sklearn.feature_extraction.text import TfidfVectorizer\n",
    "from sklearn.feature_extraction.text import TfidfTransformer\n",
    "from sklearn.model_selection import train_test_split\n",
    "from sklearn.feature_extraction.text import CountVectorizer\n",
    "from sklearn.model_selection import cross_val_score\n",
    "from textblob.classifiers import NaiveBayesClassifier as NBC"
   ]
  },
  {
   "cell_type": "code",
   "execution_count": 25,
   "metadata": {},
   "outputs": [
    {
     "data": {
      "text/html": [
       "<div>\n",
       "<style scoped>\n",
       "    .dataframe tbody tr th:only-of-type {\n",
       "        vertical-align: middle;\n",
       "    }\n",
       "\n",
       "    .dataframe tbody tr th {\n",
       "        vertical-align: top;\n",
       "    }\n",
       "\n",
       "    .dataframe thead th {\n",
       "        text-align: right;\n",
       "    }\n",
       "</style>\n",
       "<table border=\"1\" class=\"dataframe\">\n",
       "  <thead>\n",
       "    <tr style=\"text-align: right;\">\n",
       "      <th></th>\n",
       "      <th>0</th>\n",
       "      <th>1</th>\n",
       "    </tr>\n",
       "  </thead>\n",
       "  <tbody>\n",
       "    <tr>\n",
       "      <th>0</th>\n",
       "      <td>What is the projected Money in United States D...</td>\n",
       "      <td>Money</td>\n",
       "    </tr>\n",
       "    <tr>\n",
       "      <th>1</th>\n",
       "      <td>What is the expected market size (in United St...</td>\n",
       "      <td>Money</td>\n",
       "    </tr>\n",
       "    <tr>\n",
       "      <th>2</th>\n",
       "      <td>What is the expected market size (in United St...</td>\n",
       "      <td>Money</td>\n",
       "    </tr>\n",
       "    <tr>\n",
       "      <th>3</th>\n",
       "      <td>What is the expected Money in United States Do...</td>\n",
       "      <td>Money</td>\n",
       "    </tr>\n",
       "    <tr>\n",
       "      <th>4</th>\n",
       "      <td>What is the expected Money in United States Do...</td>\n",
       "      <td>Money</td>\n",
       "    </tr>\n",
       "  </tbody>\n",
       "</table>\n",
       "</div>"
      ],
      "text/plain": [
       "                                                   0      1\n",
       "0  What is the projected Money in United States D...  Money\n",
       "1  What is the expected market size (in United St...  Money\n",
       "2  What is the expected market size (in United St...  Money\n",
       "3  What is the expected Money in United States Do...  Money\n",
       "4  What is the expected Money in United States Do...  Money"
      ]
     },
     "execution_count": 25,
     "metadata": {},
     "output_type": "execute_result"
    }
   ],
   "source": [
    "df = pd.read_csv(\"M:\\\\GMU@Sem3\\\\DAEN 690\\\\Datasets\\\\possible_question_types_final.csv\",header = None)\n",
    "test =pd.read_csv('C:\\\\Users\\\\mohan\\\\Desktop\\\\Final Project\\\\Inputs_final\\\\new_testttt.csv',header = None)\n",
    "df.head()"
   ]
  },
  {
   "cell_type": "code",
   "execution_count": 22,
   "metadata": {},
   "outputs": [
    {
     "name": "stderr",
     "output_type": "stream",
     "text": [
      "C:\\Users\\mohan\\Anaconda3\\envs\\My env\\lib\\site-packages\\sklearn\\linear_model\\logistic.py:432: FutureWarning: Default solver will be changed to 'lbfgs' in 0.22. Specify a solver to silence this warning.\n",
      "  FutureWarning)\n",
      "C:\\Users\\mohan\\Anaconda3\\envs\\My env\\lib\\site-packages\\sklearn\\linear_model\\logistic.py:469: FutureWarning: Default multi_class will be changed to 'auto' in 0.22. Specify the multi_class option to silence this warning.\n",
      "  \"this warning.\", FutureWarning)\n"
     ]
    }
   ],
   "source": [
    "from sklearn.linear_model import LogisticRegression\n",
    "from sklearn.ensemble import RandomForestClassifier\n",
    "from sklearn.svm import LinearSVC\n",
    "from sklearn.model_selection import cross_val_score\n",
    "models = [LinearSVC(),\n",
    "    LogisticRegression(random_state=0)]\n",
    "CV = 5\n",
    "cv_df = pd.DataFrame(index=range(CV * len(models)))\n",
    "entries = []\n",
    "for model in models:\n",
    "  model_name = model.__class__.__name__\n",
    "  accuracies = cross_val_score(model, X_test_tfidf,y_test, scoring='accuracy', cv=CV)\n",
    "  for fold_idx, accuracy in enumerate(accuracies):\n",
    "    entries.append((model_name, fold_idx, accuracy))\n",
    "cv_df = pd.DataFrame(entries, columns=['model_name', 'fold_idx', 'accuracy'])"
   ]
  },
  {
   "cell_type": "code",
   "execution_count": 23,
   "metadata": {},
   "outputs": [
    {
     "data": {
      "text/plain": [
       "model_name\n",
       "LinearSVC             0.884061\n",
       "LogisticRegression    0.859671\n",
       "Name: accuracy, dtype: float64"
      ]
     },
     "execution_count": 23,
     "metadata": {},
     "output_type": "execute_result"
    }
   ],
   "source": [
    "cv_df.groupby('model_name').accuracy.mean()"
   ]
  },
  {
   "cell_type": "code",
   "execution_count": 24,
   "metadata": {},
   "outputs": [],
   "source": [
    "d = df.values.tolist()"
   ]
  },
  {
   "cell_type": "code",
   "execution_count": 14,
   "metadata": {},
   "outputs": [],
   "source": [
    "x_train ,x_test = train_test_split(d,test_size=0.7) "
   ]
  },
  {
   "cell_type": "code",
   "execution_count": 27,
   "metadata": {},
   "outputs": [],
   "source": [
    "mod = NBC(x_train) "
   ]
  },
  {
   "cell_type": "code",
   "execution_count": 29,
   "metadata": {},
   "outputs": [
    {
     "name": "stdout",
     "output_type": "stream",
     "text": [
      "Naive Bayes Classifier Accuracy is 0.8983402489626556\n"
     ]
    }
   ],
   "source": [
    "print(\"Naive Bayes Classifier Accuracy is\",mod.accuracy(x_test))"
   ]
  },
  {
   "cell_type": "code",
   "execution_count": 30,
   "metadata": {},
   "outputs": [],
   "source": [
    "target = []\n",
    "for i in test[0]:\n",
    "    target.append(mod.classify(i))"
   ]
  },
  {
   "cell_type": "code",
   "execution_count": 31,
   "metadata": {
    "collapsed": true
   },
   "outputs": [
    {
     "data": {
      "text/plain": [
       "['Quantity',\n",
       " 'Quantity',\n",
       " 'Quantity',\n",
       " 'Money',\n",
       " 'Quantity',\n",
       " 'Quantity',\n",
       " 'Year',\n",
       " 'Quantity',\n",
       " 'Quantity',\n",
       " 'Quantity',\n",
       " 'Quantity',\n",
       " 'Quantity',\n",
       " 'Quantity',\n",
       " 'Quantity',\n",
       " 'Money',\n",
       " 'Money',\n",
       " 'Quantity',\n",
       " 'Quantity',\n",
       " 'Money',\n",
       " 'Year',\n",
       " 'Money',\n",
       " 'Quantity',\n",
       " 'Quantity',\n",
       " 'Quantity',\n",
       " 'Quantity',\n",
       " 'Quantity',\n",
       " 'Quantity',\n",
       " 'Quantity',\n",
       " 'Quantity',\n",
       " 'Quantity',\n",
       " 'Quantity',\n",
       " 'Quantity',\n",
       " 'Quantity',\n",
       " 'Quantity',\n",
       " 'Year',\n",
       " 'Quantity',\n",
       " 'Money',\n",
       " 'Quantity',\n",
       " 'Quantity',\n",
       " 'Money',\n",
       " 'Money',\n",
       " 'Year',\n",
       " 'Quantity',\n",
       " 'Quantity',\n",
       " 'Money',\n",
       " 'Money',\n",
       " 'Quantity',\n",
       " 'Quantity',\n",
       " 'Quantity',\n",
       " 'Quantity',\n",
       " 'Year',\n",
       " 'Quantity',\n",
       " 'Quantity',\n",
       " 'Quantity',\n",
       " 'Quantity',\n",
       " 'Quantity',\n",
       " 'Quantity',\n",
       " 'Quantity',\n",
       " 'Year',\n",
       " 'Money',\n",
       " 'Money',\n",
       " 'Money',\n",
       " 'Quantity',\n",
       " 'Quantity',\n",
       " 'Quantity',\n",
       " 'Quantity',\n",
       " 'Money',\n",
       " 'Quantity',\n",
       " 'Quantity',\n",
       " 'Quantity',\n",
       " 'Money',\n",
       " 'Quantity',\n",
       " 'Year',\n",
       " 'Quantity',\n",
       " 'Quantity',\n",
       " 'Quantity',\n",
       " 'Money',\n",
       " 'Quantity',\n",
       " 'Quantity',\n",
       " 'Money',\n",
       " 'Quantity',\n",
       " 'Quantity',\n",
       " 'Quantity',\n",
       " 'Quantity',\n",
       " 'Quantity',\n",
       " 'Quantity',\n",
       " 'Quantity',\n",
       " 'Quantity',\n",
       " 'Quantity',\n",
       " 'Quantity',\n",
       " 'Quantity',\n",
       " 'Quantity',\n",
       " 'Quantity',\n",
       " 'Money',\n",
       " 'Money',\n",
       " 'Quantity',\n",
       " 'Quantity',\n",
       " 'Money',\n",
       " 'Quantity',\n",
       " 'Quantity',\n",
       " 'Money',\n",
       " 'Quantity',\n",
       " 'Money',\n",
       " 'Quantity',\n",
       " 'Quantity',\n",
       " 'Quantity',\n",
       " 'Quantity',\n",
       " 'Money',\n",
       " 'Quantity',\n",
       " 'Money',\n",
       " 'Quantity',\n",
       " 'Quantity',\n",
       " 'Quantity',\n",
       " 'Quantity',\n",
       " 'Quantity',\n",
       " 'Quantity',\n",
       " 'Quantity',\n",
       " 'Quantity',\n",
       " 'Quantity',\n",
       " 'Quantity',\n",
       " 'Money',\n",
       " 'Quantity',\n",
       " 'Quantity',\n",
       " 'Money',\n",
       " 'Quantity',\n",
       " 'Quantity',\n",
       " 'Quantity',\n",
       " 'Money',\n",
       " 'Money',\n",
       " 'Quantity',\n",
       " 'Quantity',\n",
       " 'Quantity',\n",
       " 'Quantity',\n",
       " 'Quantity',\n",
       " 'Quantity',\n",
       " 'Quantity',\n",
       " 'Quantity',\n",
       " 'Money',\n",
       " 'Quantity',\n",
       " 'Quantity',\n",
       " 'Money',\n",
       " 'Quantity',\n",
       " 'Quantity',\n",
       " 'Quantity',\n",
       " 'Quantity',\n",
       " 'Quantity',\n",
       " 'Quantity',\n",
       " 'Quantity',\n",
       " 'Quantity',\n",
       " 'Money',\n",
       " 'Quantity',\n",
       " 'Money',\n",
       " 'Money',\n",
       " 'Money',\n",
       " 'Money',\n",
       " 'Money',\n",
       " 'Money',\n",
       " 'Money',\n",
       " 'Money',\n",
       " 'Money',\n",
       " 'Money',\n",
       " 'Money',\n",
       " 'Money',\n",
       " 'Money',\n",
       " 'Money',\n",
       " 'Money',\n",
       " 'Money',\n",
       " 'Money',\n",
       " 'Money',\n",
       " 'Money',\n",
       " 'Quantity',\n",
       " 'Quantity',\n",
       " 'Quantity',\n",
       " 'Quantity',\n",
       " 'Quantity',\n",
       " 'Quantity',\n",
       " 'Quantity',\n",
       " 'Quantity',\n",
       " 'Quantity',\n",
       " 'Year',\n",
       " 'Money',\n",
       " 'Money',\n",
       " 'Money',\n",
       " 'Money',\n",
       " 'Money',\n",
       " 'Money',\n",
       " 'Money',\n",
       " 'Quantity',\n",
       " 'Quantity',\n",
       " 'Quantity',\n",
       " 'Quantity',\n",
       " 'Quantity',\n",
       " 'Quantity',\n",
       " 'Money',\n",
       " 'Money',\n",
       " 'Money',\n",
       " 'Quantity',\n",
       " 'Quantity',\n",
       " 'Quantity',\n",
       " 'Money',\n",
       " 'Money',\n",
       " 'Quantity',\n",
       " 'Quantity',\n",
       " 'Quantity']"
      ]
     },
     "execution_count": 31,
     "metadata": {},
     "output_type": "execute_result"
    }
   ],
   "source": [
    "target"
   ]
  },
  {
   "cell_type": "code",
   "execution_count": 32,
   "metadata": {},
   "outputs": [
    {
     "name": "stdout",
     "output_type": "stream",
     "text": [
      "Accuracy : 93.13725490196079\n"
     ]
    }
   ],
   "source": [
    "actual = test[1]\n",
    "predicted = target\n",
    "count = 0 \n",
    "total = len(actual)\n",
    "for i in range(0,total):\n",
    "    if (actual[i] == predicted[i]):\n",
    "        count = count+1\n",
    "print('Accuracy :',count/total*100)"
   ]
  },
  {
   "cell_type": "code",
   "execution_count": null,
   "metadata": {},
   "outputs": [],
   "source": []
  }
 ],
 "metadata": {
  "kernelspec": {
   "display_name": "Python 3",
   "language": "python",
   "name": "python3"
  },
  "language_info": {
   "codemirror_mode": {
    "name": "ipython",
    "version": 3
   },
   "file_extension": ".py",
   "mimetype": "text/x-python",
   "name": "python",
   "nbconvert_exporter": "python",
   "pygments_lexer": "ipython3",
   "version": "3.6.5"
  }
 },
 "nbformat": 4,
 "nbformat_minor": 2
}
